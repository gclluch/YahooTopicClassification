{
 "cells": [
  {
   "cell_type": "code",
   "execution_count": 1,
   "metadata": {},
   "outputs": [],
   "source": [
    "import numpy as np\n",
    "import pandas as pd\n",
    "import scipy.sparse as sp\n",
    "from sklearn.metrics import accuracy_score\n",
    "from sklearn.model_selection import train_test_split\n",
    "from sklearn.metrics import confusion_matrix, classification_report"
   ]
  },
  {
   "cell_type": "code",
   "execution_count": 2,
   "metadata": {},
   "outputs": [],
   "source": [
    "categories = {1: 'Society & Culture', 2: 'Science & Mathematics', 3: 'Health', 4: 'Education & Reference',\n",
    "              5: 'Computers & Internet', 6: 'Sports', 7: 'Business & Finance', 8: 'Entertainment & Music',\n",
    "              9: 'Family & Relationships', 10: 'Politics & Government'}\n",
    "\n",
    "inv_map = {v: k for k, v in categories.items()}\n"
   ]
  },
  {
   "cell_type": "code",
   "execution_count": 3,
   "metadata": {},
   "outputs": [],
   "source": [
    "#Load cleaned data and create training/test/validation split\n",
    "\n",
    "data_train = pd.read_csv('data/yahoo_train_notnull_clean.csv')\n",
    "data_test = pd.read_csv('data/yahoo_test_clean.csv')\n",
    "data_train = data_train.sample(frac=.5, random_state=42)\n",
    "\n",
    "X = data_train['text']\n",
    "Y = data_train['class']\n",
    "\n",
    "X_test = data_test['text']\n",
    "y_test = data_test['class']\n",
    "\n",
    "X_train, X_valid, y_train, y_valid = train_test_split(X, Y, test_size=0.2, random_state=42)\n",
    "#X_train, X_test, y_train, y_test = train_test_split(X, Y, test_size=0.2, random_state=42)\n"
   ]
  },
  {
   "cell_type": "code",
   "execution_count": 4,
   "metadata": {},
   "outputs": [],
   "source": [
    "#Create feature vectors using BBoW representation of unigrams and bigrams\n",
    "from sklearn.feature_extraction.text import CountVectorizer\n",
    "\n",
    "max_vocab = 10000\n",
    "bow_transformer = CountVectorizer(max_features=max_vocab, ngram_range=(1,2), binary=True ).fit(X_train.values.astype('U'))\n",
    "X_train = bow_transformer.transform(X_train.values.astype('U'))\n",
    "X_valid = bow_transformer.transform(X_valid.values.astype('U'))\n",
    "X_test = bow_transformer.transform(X_test.values.astype('U'))"
   ]
  },
  {
   "cell_type": "code",
   "execution_count": 5,
   "metadata": {
    "scrolled": true
   },
   "outputs": [],
   "source": [
    "#Create splits for cross-validation\n",
    "from sklearn.model_selection import GridSearchCV, PredefinedSplit\n",
    "\n",
    "my_test_fold = []\n",
    "for i in range(X_train.shape[0]):\n",
    "    my_test_fold.append(-1)\n",
    "for i in range(X_valid.shape[0]):\n",
    "    my_test_fold.append(0)\n",
    "\n",
    "fold = PredefinedSplit(test_fold=my_test_fold)\n",
    "CV_split_T = np.append(y_train, y_valid)\n",
    "CV_split_X = sp.vstack((X_train , X_valid)) "
   ]
  },
  {
   "cell_type": "code",
   "execution_count": 6,
   "metadata": {},
   "outputs": [
    {
     "name": "stdout",
     "output_type": "stream",
     "text": [
      "Training accuracy:  0.69809552629267\n",
      "Test accuracy:  0.6425833333333333\n"
     ]
    }
   ],
   "source": [
    "#Multinomial Naive Bayes\n",
    "from sklearn.naive_bayes import MultinomialNB\n",
    "\n",
    "def MNB(parameters, X, T, fold) : \n",
    "    n_folds = 5\n",
    "    mnb = MultinomialNB(fit_prior=True)\n",
    "    mnb_cv = GridSearchCV(mnb, parameters, cv=fold, scoring=\"accuracy\", refit=False)\n",
    "    mnb_cv.fit(X, T)\n",
    "    scores = mnb_cv.cv_results_['mean_test_score']\n",
    "    params = mnb_cv.cv_results_['params']\n",
    "#     print('scores:',scores)\n",
    "#    print('params:',params)\n",
    "    return mnb_cv.best_params_\n",
    "\n",
    "#search for alpha value\n",
    "def getHyperparamsMNB (values, scale) : \n",
    "    prevBest = 1000\n",
    "    while (True) : \n",
    "        param_grid = {'alpha': values}\n",
    "        bestParams = MNB(param_grid, CV_split_X, CV_split_T, fold)\n",
    "        curBest = bestParams['alpha']\n",
    "        if (abs(curBest - prevBest ) > .00001) : \n",
    "            inc = curBest/10\n",
    "            lb = curBest - inc*scale\n",
    "            ub = curBest + inc*scale\n",
    "            values = np.arange(lb, ub, inc)\n",
    "            prevBest = curBest\n",
    "        else : return curBest\n",
    "\n",
    "#predict on test set\n",
    "alphaVal = getHyperparamsMNB([ 0.0001, 0.001, 0.01, 0.1, 1, 10, 100], 5)            \n",
    "nb = MultinomialNB(alpha=alphaVal, fit_prior=True)\n",
    "nb.fit(X_train, y_train)\n",
    "#print('best alpha: ', alphaVal)\n",
    "\n",
    "#predict on train set\n",
    "y_hat_train = nb.predict(X_train)\n",
    "print('Training accuracy: ', accuracy_score(y_train, y_hat_train)  )\n",
    "\n",
    "#predict on test set\n",
    "y_hat_test = nb.predict(X_test)\n",
    "print('Test accuracy: ', accuracy_score(y_test, y_hat_test)  )"
   ]
  },
  {
   "cell_type": "code",
   "execution_count": 7,
   "metadata": {
    "scrolled": true
   },
   "outputs": [
    {
     "name": "stdout",
     "output_type": "stream",
     "text": [
      "Training accuracy:  0.7452306811267404\n",
      "Test accuracy:  0.6528166666666667\n"
     ]
    }
   ],
   "source": [
    "#Linear SVM\n",
    "from sklearn.svm import LinearSVC\n",
    "\n",
    "def linSVM(parameters, X, T, fold) : \n",
    "    n_folds = 5\n",
    "    svc = LinearSVC(multi_class='ovr', max_iter = 2000, dual=False)\n",
    "    svc_cv = GridSearchCV(svc, parameters, cv=fold, scoring=\"accuracy\", refit=False)\n",
    "    svc_cv.fit(X, T)\n",
    "    scores = svc_cv.cv_results_['mean_test_score']\n",
    "    params = svc_cv.cv_results_['params']\n",
    "#    print('scores:',scores)\n",
    "#    print('params:',params)\n",
    "    return svc_cv.best_params_\n",
    "\n",
    "#search for C value\n",
    "def getHyperparamsSVM (values, scale) : \n",
    "    prevBest = 1000\n",
    "    while (True) : \n",
    "        param_grid = {'C': values}\n",
    "        bestParams = linSVM(param_grid, CV_split_X, CV_split_T, fold)\n",
    "        curBest = bestParams['C']\n",
    "        if (abs(curBest - prevBest ) > .0001) : \n",
    "            inc = curBest/10\n",
    "            lb = curBest - inc*scale\n",
    "            ub = curBest + inc*scale\n",
    "            values = np.arange(lb, ub, inc)\n",
    "            prevBest = curBest\n",
    "        else : return curBest\n",
    "\n",
    "#predict on test set\n",
    "cVal = getHyperparamsSVM([ 0.0001, 0.001, 0.01, 0.1, 1, 10, 100], 5)            \n",
    "svm = LinearSVC(C=cVal, multi_class='ovr')\n",
    "svm.fit(X_train, y_train)\n",
    "#print('best C: ', cVal)\n",
    "\n",
    "#predict on train set\n",
    "y_hat_train = svm.predict(X_train)\n",
    "print('Training accuracy: ', accuracy_score(y_train, y_hat_train)  )\n",
    "\n",
    "#predict on test set\n",
    "y_hat_test = svm.predict(X_test)\n",
    "print('Test accuracy: ', accuracy_score(y_test, y_hat_test)  )"
   ]
  },
  {
   "cell_type": "code",
   "execution_count": 8,
   "metadata": {},
   "outputs": [
    {
     "name": "stderr",
     "output_type": "stream",
     "text": [
      "C:\\ProgramData\\Anaconda3\\lib\\site-packages\\sklearn\\linear_model\\logistic.py:433: FutureWarning: Default solver will be changed to 'lbfgs' in 0.22. Specify a solver to silence this warning.\n",
      "  FutureWarning)\n"
     ]
    },
    {
     "name": "stdout",
     "output_type": "stream",
     "text": [
      "Training accuracy:  0.7507296740626495\n",
      "Test accuracy:  0.6414833333333333\n"
     ]
    }
   ],
   "source": [
    "from sklearn.linear_model import LogisticRegression\n",
    "\n",
    "def logReg(parameters, X, T, fold) : \n",
    "    n_folds = 5\n",
    "    logreg = LogisticRegression(multi_class='ovr', dual=False)\n",
    "    logreg_cv = GridSearchCV(logreg, parameters, cv=fold, scoring=\"accuracy\", refit=False)\n",
    "    logreg_cv.fit(X, T) \n",
    "    scores = logreg_cv.cv_results_['mean_test_score']\n",
    "    params = logreg_cv.cv_results_['params']\n",
    "#    print('scores:',scores)\n",
    "#    print('params:',params)\n",
    "    return logreg_cv.best_params_\n",
    "\n",
    "#search for C value\n",
    "def getHyperparamsLogReg (values, scale) : \n",
    "    prevBest = 1000\n",
    "    while (True) : \n",
    "        param_grid = {'C': values}\n",
    "        bestParams = logReg(param_grid, CV_split_X, CV_split_T, fold)\n",
    "        curBest = bestParams['C']\n",
    "        if (abs(curBest - prevBest ) > .0001) : \n",
    "            inc = curBest/10\n",
    "            lb = curBest - inc*scale\n",
    "            ub = curBest + inc*scale\n",
    "            values = np.arange(lb, ub, inc)\n",
    "            prevBest = curBest\n",
    "        else : return curBest\n",
    "\n",
    "#predict on test set\n",
    "cVal = getHyperparamsLogReg([ 0.0001, 0.001, 0.01, 0.1, 1, 10, 100], 5)            \n",
    "logreg = LogisticRegression(C=cVal, multi_class='ovr', dual=False)\n",
    "logreg.fit(X_train, y_train)\n",
    "#print('best C: ', cVal)\n",
    "\n",
    "#predict on train set\n",
    "y_hat_train = logreg.predict(X_train)\n",
    "print('Training accuracy: ', accuracy_score(y_train, y_hat_train)  )\n",
    "\n",
    "#predict on test set\n",
    "y_hat_test = logreg.predict(X_test)\n",
    "print('Test accuracy: ', accuracy_score(y_test, y_hat_test)  )"
   ]
  }
 ],
 "metadata": {
  "kernelspec": {
   "display_name": "Python 3",
   "language": "python",
   "name": "python3"
  },
  "language_info": {
   "codemirror_mode": {
    "name": "ipython",
    "version": 3
   },
   "file_extension": ".py",
   "mimetype": "text/x-python",
   "name": "python",
   "nbconvert_exporter": "python",
   "pygments_lexer": "ipython3",
   "version": "3.7.1"
  }
 },
 "nbformat": 4,
 "nbformat_minor": 2
}
